{
 "cells": [
  {
   "cell_type": "raw",
   "id": "df763fce-57d1-480c-a1f1-bd791c53c4ce",
   "metadata": {},
   "source": [
    "Q1: Define overfitting and underfitting in machine learning. What are the consequences of each, and how can they be mitigated?\n",
    "Ans: Overfitting : model performs well on the training dataset in the other hand it can also expressed as low bias and high variance.\n",
    "this type of situation can be mitigated by training a new data to model which is not relevant to previous data cross verification of a model before testing etc \n",
    "underfitting: model performs poor on both training dataset and testing dataset in the other words it can be expressed as high bias and high variance \n",
    "this type of situation can be mitigated by training by large quantity of data set and reverifying the model validation of model should be done very highly so that the model can be well trained and hope good for test dataset.\n"
   ]
  },
  {
   "cell_type": "raw",
   "id": "74b82a7b-1962-43e3-bff6-275c1a4a1a25",
   "metadata": {},
   "source": [
    "Q2: How can we reduce overfitting? Explain in brief?\n",
    "Ans: training a new data set to model which is not relevant to previous data cross verification of a model before testing etc"
   ]
  },
  {
   "cell_type": "raw",
   "id": "2078fb81-c9cd-4efc-bf67-dbd7af70805e",
   "metadata": {},
   "source": [
    "Q3: Explain underfitting. List scenarios where underfitting can occur in ML?\n",
    "Ans:  model performs poor on both training dataset and testing dataset in the other words it can be expressed as high bias and high variance\n",
    "when the model is not trained on a sufficient amount of data and doesnt trained well i mean the feauture engineering is not applied well etc.\n"
   ]
  },
  {
   "cell_type": "raw",
   "id": "9cb48c1f-f865-4448-b1a6-96e33ef62254",
   "metadata": {},
   "source": [
    "Q4: Explain the bias-variance tradeoff in machine learning. What is the relationship between bias and variance, and how do they affect model performance?\n",
    "Ans: bias represents the accuracy of a model on training data set. for the good practice the bias should be always low so that machine learning model can perform well and it can succeed \n",
    "     variance represents the accuracy of a model on testing data set. for the good practice the variance should be always low so that machine learning model can perform well and it can succeed\n",
    "it represents the underfitting and overfitting cases of machine learning models.\n",
    "effects of high bias and high variance which comes under underfitting case the model cannot perform well on the new or existing data there is high chances of failure of the model in market and the product will be failed if the model releases in manrket with underfitting condition.\n",
    "\n"
   ]
  },
  {
   "cell_type": "raw",
   "id": "b931c003-2827-4762-8457-6fd42237e1cc",
   "metadata": {},
   "source": [
    "Q5: Discuss some common methods for detecting overfitting and underfitting in machine learning models. How can you determine whether your model is overfitting or underfitting?\n",
    "Ans: methods:  iam new to the machine learning as this content is not explained in the video \n",
    "yeah probably we can determine the model is going to underfitting and overfitting based on its accuracy of the model can be determined whether the model is overfitting or underfitting.\n"
   ]
  },
  {
   "cell_type": "raw",
   "id": "4faab3bb-929a-4a3d-af5b-1877aa6d2713",
   "metadata": {},
   "source": [
    "Q6: Compare and contrast bias and variance in machine learning. What are some examples of high bias and high variance models, and how do they differ in terms of their performance?\n",
    "Ans: bias represents the accuracy of a model on training data set. \n",
    "     variance represents the accuracy of a model on testing data set.\n",
    "non-linear data and complex data are some of the examples of high bias and high variances coming to performance it will definitely perform very poor there will be high chances of getting errors etc\n",
    "    "
   ]
  },
  {
   "cell_type": "raw",
   "id": "7e9cbb50-a3b8-4619-8f87-dd0beaa2fd9b",
   "metadata": {},
   "source": [
    "Q7: What is regularization in machine learning, and how can it be used to prevent overfitting? Describe some common regularization techniques and how they work.?\n",
    "not discussed in the lecture."
   ]
  },
  {
   "cell_type": "code",
   "execution_count": null,
   "id": "d6973766-27de-488f-ba91-802642137aa7",
   "metadata": {},
   "outputs": [],
   "source": []
  }
 ],
 "metadata": {
  "kernelspec": {
   "display_name": "Python 3 (ipykernel)",
   "language": "python",
   "name": "python3"
  },
  "language_info": {
   "codemirror_mode": {
    "name": "ipython",
    "version": 3
   },
   "file_extension": ".py",
   "mimetype": "text/x-python",
   "name": "python",
   "nbconvert_exporter": "python",
   "pygments_lexer": "ipython3",
   "version": "3.11.4"
  }
 },
 "nbformat": 4,
 "nbformat_minor": 5
}
