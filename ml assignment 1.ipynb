{
 "cells": [
  {
   "cell_type": "raw",
   "id": "861b840b-5b00-478d-8088-ecc946478fdb",
   "metadata": {},
   "source": [
    "Q1: Explain the following with an example:\n",
    "Artificial Intelligence :\n",
    "creating a smart application by using Machine learning and deeplearning models, \n",
    "for example AI tv Anchors, Robots, Self-Drive Cars - Tesla \n",
    "Machine Learning: It provides Stastical analysis and develop predictive models from data for example: classification: types of diseases, Exam Result, Price of building, stockmarket prediction, netflix recommendation system etc.\n",
    "Deep Learning: it mimics the human brain it has a multi layered neural network examples of deeplearning chatgpt,google bard, talking tom , chatbots etc."
   ]
  },
  {
   "cell_type": "raw",
   "id": "9b24d31c-f9bc-40c2-9768-5a60aa008422",
   "metadata": {},
   "source": [
    "Q2: What is supervised learning? List some examples of supervised learning.?\n",
    "supervised learning is a sub-type of machine learning it develops predictive output from the data set it mainly divides into \n",
    "1) Classification: based on the data Set the output will be predicted the output will be depended data ie directly depends on data set\n",
    "2) Regression : the output will be in continous data format \n",
    "eg: man with no habit of smoking : less damage of lungs\n",
    "    man with habit of smoking irregular : moderate damage of lungs\n",
    "    man with habit of smoking regularly : highly damage of lungs "
   ]
  },
  {
   "cell_type": "raw",
   "id": "93257c71-b2e3-4e06-9265-409f4e6404e0",
   "metadata": {},
   "source": [
    "Q3: What is unsupervised learning? List some examples of unsupervised learning.?\n",
    "unsupervised learning does not provide or develop any predictive models it will work on specific data set to divide the data into some clusters or groups of data"
   ]
  },
  {
   "cell_type": "raw",
   "id": "099c7751-62a5-4954-80a0-0424176b231e",
   "metadata": {},
   "source": [
    "Q4: What is the difference between AI, ML, DL, and DS?\n",
    "ML is a subset of AI, and DL is a subset of ML coming to Data Science, data scientist will work all this places and  collects, analyze, and interpret the data to find valuable insights and make smart decisions."
   ]
  },
  {
   "cell_type": "raw",
   "id": "18a0854b-1d16-4e9c-b235-d942401cacf2",
   "metadata": {},
   "source": [
    "Q5: What are the main differences between supervised, unsupervised, and semi-supervised learning?\n",
    "supervised learning develops predictive output from the data set,unsupervised learning does not provide or develop any predictive models it will work on specific data set to divide the data into some clusters or groups of data, while semi-supervised learning will work in both for example netflix it divides the customers data into clusters and provide the predicted data ie. recommended data to the customers unsupervised+supervised = semi-supervised learning."
   ]
  },
  {
   "cell_type": "raw",
   "id": "42fcef7a-5681-4c82-a748-4e40107c94cb",
   "metadata": {},
   "source": [
    "Q6: What is train, test and validation split? Explain the importance of each term ?\n",
    "train: the model will be trained for some data \n",
    "validation : hyperparamating tuning of model will be done to increase the accuracy of the model \n",
    "test: testing of a model will be done it this category "
   ]
  },
  {
   "cell_type": "raw",
   "id": "d6e0ffce-ad1b-4ce2-a2e0-0b2ebab4f1f8",
   "metadata": {},
   "source": [
    "Q7: How can unsupervised learning be used in anomaly detection?\n",
    "anomaly is just like an outlier in a data set unsupervised learning will divide the data into a cluster such as normal data which is in a particular range if the data is beyond the cluster ie normnal data it will give alert to some device or human etc."
   ]
  },
  {
   "cell_type": "raw",
   "id": "dc30fe60-6016-4fe9-8460-bff8ac259611",
   "metadata": {},
   "source": [
    "Q8: List down some commonly used supervised learning algorithms and unsupervised learning\n",
    "algorithms.?\n",
    "i am new to machine learning as of now the algorithm topics were not discussed in the lectures "
   ]
  },
  {
   "cell_type": "code",
   "execution_count": null,
   "id": "d112739d-7890-4adb-87ba-087fb0228504",
   "metadata": {},
   "outputs": [],
   "source": []
  }
 ],
 "metadata": {
  "kernelspec": {
   "display_name": "Python 3 (ipykernel)",
   "language": "python",
   "name": "python3"
  },
  "language_info": {
   "codemirror_mode": {
    "name": "ipython",
    "version": 3
   },
   "file_extension": ".py",
   "mimetype": "text/x-python",
   "name": "python",
   "nbconvert_exporter": "python",
   "pygments_lexer": "ipython3",
   "version": "3.11.4"
  }
 },
 "nbformat": 4,
 "nbformat_minor": 5
}
